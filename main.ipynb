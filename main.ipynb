{
 "cells": [
  {
   "cell_type": "code",
   "execution_count": 2,
   "metadata": {},
   "outputs": [
    {
     "name": "stdout",
     "output_type": "stream",
     "text": [
      "[2, 3, 4]\n"
     ]
    }
   ],
   "source": [
    "#list comprehension: List\n",
    "# so like this is how one would normally conduct the process of creating a new list from a list\n",
    "numbers = [1,2,3]\n",
    "newList = []\n",
    "for n in numbers:\n",
    "    add_1 = n + 1\n",
    "    newList.append(add_1)\n",
    "print(newList)"
   ]
  },
  {
   "cell_type": "code",
   "execution_count": 9,
   "metadata": {},
   "outputs": [
    {
     "name": "stdout",
     "output_type": "stream",
     "text": [
      "[800, 1600, 2400, 3200, 4000, 4800, 5600, 6400, 6400, 7200]\n"
     ]
    }
   ],
   "source": [
    "#But this is the better way (aka list comprehension)\n",
    "number = [1,2,3,4,5,6,7,8,8,9]\n",
    "newList = [i*800 for i in number]\n",
    "print(newList)"
   ]
  },
  {
   "cell_type": "code",
   "execution_count": 11,
   "metadata": {},
   "outputs": [
    {
     "name": "stdout",
     "output_type": "stream",
     "text": [
      "['y', 'u', 'h', 'Y', 'u', 'h', 'Y', 'U', 'h', 'Y', 'U', 'h', 'Y', 'U', 'h', 'Y', 'u', 'h']\n"
     ]
    }
   ],
   "source": [
    "name = \"yuhYuhYUhYUhYUhYuh\"\n",
    "new_name = [letter for letter in name]\n",
    "print(new_name)"
   ]
  },
  {
   "cell_type": "code",
   "execution_count": 19,
   "metadata": {},
   "outputs": [
    {
     "name": "stdout",
     "output_type": "stream",
     "text": [
      "[2, 4, 6, 8]\n"
     ]
    }
   ],
   "source": [
    "# Challenge\n",
    "list1 = [1, 2, 3, 4,6,7,8]\n",
    "hopefullyTheCorrectList = [i*2 for i in range(1,5)]\n",
    "\n",
    "print(hopefullyTheCorrectList)\n"
   ]
  },
  {
   "cell_type": "code",
   "execution_count": null,
   "metadata": {},
   "outputs": [],
   "source": [
    "for i in range(1,5):\n",
    "    print(\"hello\")"
   ]
  },
  {
   "cell_type": "markdown",
   "metadata": {},
   "source": [
    "#### Conditional list Comprehension"
   ]
  },
  {
   "cell_type": "code",
   "execution_count": 22,
   "metadata": {},
   "outputs": [
    {
     "name": "stdout",
     "output_type": "stream",
     "text": [
      "['CAROLINE', 'ELEANOR', 'FREDDIE']\n"
     ]
    }
   ],
   "source": [
    "names = ['Alex', 'Beth' , 'Caroline', 'David', 'Eleanor', 'Freddie']\n",
    "upperNames = [i.upper() for i in names if len(i) > 5]\n",
    "print(upperNames)\n",
    "\n"
   ]
  },
  {
   "cell_type": "code",
   "execution_count": 25,
   "metadata": {},
   "outputs": [
    {
     "data": {
      "text/plain": [
       "[1, 4, 9, 16, 25, 36, 49, 64, 81]"
      ]
     },
     "execution_count": 25,
     "metadata": {},
     "output_type": "execute_result"
    }
   ],
   "source": [
    "numbers = [1,2,3,4,5,6,7,8,9,]\n",
    "squared_numbers = [i*i for i in numbers]\n",
    "squared_numbers"
   ]
  },
  {
   "cell_type": "code",
   "execution_count": 27,
   "metadata": {},
   "outputs": [],
   "source": [
    "import random"
   ]
  },
  {
   "cell_type": "code",
   "execution_count": 34,
   "metadata": {},
   "outputs": [
    {
     "data": {
      "text/plain": [
       "['5', '52', '33', '78', '56', '44', '56', '91', '96']"
      ]
     },
     "execution_count": 34,
     "metadata": {},
     "output_type": "execute_result"
    }
   ],
   "source": [
    "randomList = [str(random.randint(1,100)) for i in range(1,10)]\n",
    "randomList\n",
    "\n",
    "listEvens = [int(i) for i in randomList if int(i) %2 == 0]"
   ]
  }
 ],
 "metadata": {
  "kernelspec": {
   "display_name": "Python 3",
   "language": "python",
   "name": "python3"
  },
  "language_info": {
   "codemirror_mode": {
    "name": "ipython",
    "version": 3
   },
   "file_extension": ".py",
   "mimetype": "text/x-python",
   "name": "python",
   "nbconvert_exporter": "python",
   "pygments_lexer": "ipython3",
   "version": "3.9.6"
  }
 },
 "nbformat": 4,
 "nbformat_minor": 2
}
