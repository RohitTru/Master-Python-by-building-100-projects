{
 "cells": [
  {
   "cell_type": "code",
   "execution_count": null,
   "metadata": {},
   "outputs": [],
   "source": [
    "#list comprehension: List\n",
    "# so like this is how one would normally conduct the process of creating a new list from a list\n",
    "numbers = [1,2,3]\n",
    "newList = []\n",
    "for n in numbers:\n",
    "    add_1 = n + 1\n",
    "    newList.append(add_1)\n",
    "print(newList)"
   ]
  },
  {
   "cell_type": "code",
   "execution_count": null,
   "metadata": {},
   "outputs": [],
   "source": [
    "#But this is the better way (aka list comprehension)\n",
    "number = [1,2,3,4,5,6,7,8,8,9]\n",
    "newList = [i*800 for i in number]\n",
    "print(newList)"
   ]
  },
  {
   "cell_type": "code",
   "execution_count": null,
   "metadata": {},
   "outputs": [],
   "source": [
    "name = \"yuhYuhYUhYUhYUhYuh\"\n",
    "new_name = [letter for letter in name]\n",
    "print(new_name)"
   ]
  },
  {
   "cell_type": "code",
   "execution_count": null,
   "metadata": {},
   "outputs": [],
   "source": [
    "# Challenge\n",
    "list1 = [1, 2, 3, 4,6,7,8]\n",
    "hopefullyTheCorrectList = [i*2 for i in range(1,5)]\n",
    "\n",
    "print(hopefullyTheCorrectList)\n"
   ]
  },
  {
   "cell_type": "markdown",
   "metadata": {},
   "source": [
    "#### Conditional list Comprehension"
   ]
  },
  {
   "cell_type": "code",
   "execution_count": null,
   "metadata": {},
   "outputs": [],
   "source": [
    "names = ['Alex', 'Beth' , 'Caroline', 'David', 'Eleanor', 'Freddie']\n",
    "upperNames = [i.upper() for i in names if len(i) > 5]\n",
    "print(upperNames)\n",
    "\n"
   ]
  },
  {
   "cell_type": "code",
   "execution_count": null,
   "metadata": {},
   "outputs": [],
   "source": [
    "numbers = [1,2,3,4,5,6,7,8,9,]\n",
    "squared_numbers = [i*i for i in numbers]\n",
    "squared_numbers"
   ]
  },
  {
   "cell_type": "code",
   "execution_count": null,
   "metadata": {},
   "outputs": [],
   "source": [
    "import random"
   ]
  },
  {
   "cell_type": "code",
   "execution_count": null,
   "metadata": {},
   "outputs": [],
   "source": [
    "randomList = [str(random.randint(1,100)) for i in range(1,10)]\n",
    "print(randomList)\n",
    "\n",
    "listEvens = [int(i) for i in randomList if int(i) %2 == 0]\n",
    "(listEvens)"
   ]
  },
  {
   "cell_type": "code",
   "execution_count": null,
   "metadata": {},
   "outputs": [],
   "source": [
    "with open('file1.txt') as text1:\n",
    "    list = text1.readlines()\n",
    "    print(list)\n"
   ]
  },
  {
   "cell_type": "markdown",
   "metadata": {},
   "source": [
    "#### Dictionary Comprehension"
   ]
  },
  {
   "cell_type": "code",
   "execution_count": null,
   "metadata": {},
   "outputs": [],
   "source": [
    "names = ['Alex', 'Beth', 'Todd', 'Harper']\n",
    "students_scores = {student:random.randint(1,100) for student in names}\n",
    "students_scores\n"
   ]
  },
  {
   "cell_type": "markdown",
   "metadata": {},
   "source": []
  },
  {
   "cell_type": "code",
   "execution_count": null,
   "metadata": {},
   "outputs": [],
   "source": [
    "passedDict = {student:score for (student, score) in students_scores.items() if score >= 60}\n",
    "passedDict"
   ]
  },
  {
   "cell_type": "code",
   "execution_count": null,
   "metadata": {},
   "outputs": [],
   "source": [
    "listOfWords = input().split(' ')\n",
    "print(listOfWords)\n",
    "\n",
    "wordSizeCOunt = {word:len(word) for word in listOfWords}\n",
    "wordSizeCOunt"
   ]
  },
  {
   "cell_type": "code",
   "execution_count": null,
   "metadata": {},
   "outputs": [],
   "source": [
    "weather_c = eval(input())\n",
    "weather_f = {day:(temp * 9/5+ 32) for (day,temp) in weather_c.items()}\n",
    "weather_f"
   ]
  },
  {
   "cell_type": "code",
   "execution_count": null,
   "metadata": {},
   "outputs": [],
   "source": [
    "import pandas as pd"
   ]
  },
  {
   "cell_type": "code",
   "execution_count": null,
   "metadata": {},
   "outputs": [],
   "source": [
    "names_Scores = {'Names':['julio','bert', 'dan', 'polly'],\n",
    "                'scores':[67,54,35,65]}\n",
    "\n",
    "student_DataFrame = pd.DataFrame(names_Scores)\n",
    "print(student_DataFrame)\n",
    "\n",
    "for (index,row) in student_DataFrame.iterrows():\n",
    "    if row.Names == 'dan':\n",
    "        print(row.scores)"
   ]
  },
  {
   "cell_type": "code",
   "execution_count": null,
   "metadata": {},
   "outputs": [],
   "source": [
    "{\"is the actually the letter\":\"is the sounds word\"}\n",
    "#then we can "
   ]
  },
  {
   "cell_type": "code",
   "execution_count": 17,
   "metadata": {},
   "outputs": [
    {
     "data": {
      "text/plain": [
       "{'A': 'Alfa',\n",
       " 'B': 'Bravo',\n",
       " 'C': 'Charlie',\n",
       " 'D': 'Delta',\n",
       " 'E': 'Echo',\n",
       " 'F': 'Foxtrot',\n",
       " 'G': 'Golf',\n",
       " 'H': 'Hotel',\n",
       " 'I': 'India',\n",
       " 'J': 'Juliet',\n",
       " 'K': 'Kilo',\n",
       " 'L': 'Lima',\n",
       " 'M': 'Mike',\n",
       " 'N': 'November',\n",
       " 'O': 'Oscar',\n",
       " 'P': 'Papa',\n",
       " 'Q': 'Quebec',\n",
       " 'R': 'Romeo',\n",
       " 'S': 'Sierra',\n",
       " 'T': 'Tango',\n",
       " 'U': 'Uniform',\n",
       " 'V': 'Victor',\n",
       " 'W': 'Whiskey',\n",
       " 'X': 'X-ray',\n",
       " 'Y': 'Yankee',\n",
       " 'Z': 'Zulu'}"
      ]
     },
     "execution_count": 17,
     "metadata": {},
     "output_type": "execute_result"
    }
   ],
   "source": [
    "pandasDataFrame = pd.read_csv(\"NATOAlphabet.csv\")\n",
    "\n",
    "myDict = {row.letter:row.code for (index,row) in pandasDataFrame.iterrows()}\n",
    "\n",
    "myDict"
   ]
  },
  {
   "cell_type": "code",
   "execution_count": 16,
   "metadata": {},
   "outputs": [],
   "source": [
    "pandasDataFrame = pd.read_csv(\"NATOAlphabet.csv\")\n",
    "\n",
    "thisDict = {}\n",
    "for (index,row) in pandasDataFrame.iterrows():\n",
    "    thisDict.update({row.letter:row.code})\n"
   ]
  },
  {
   "cell_type": "code",
   "execution_count": 30,
   "metadata": {},
   "outputs": [
    {
     "data": {
      "text/plain": [
       "['Hotel', 'Uniform', 'Golf', 'Echo']"
      ]
     },
     "execution_count": 30,
     "metadata": {},
     "output_type": "execute_result"
    }
   ],
   "source": [
    "inputtedWord = input().upper()\n",
    "\n",
    "list = [letter for letter in inputtedWord] # letter for letter makes a list each letter\n",
    "\n",
    "mylist = []\n",
    "for i in list:\n",
    "    mylist.append(thisDict.get(i))\n",
    "\n",
    "mylist"
   ]
  }
 ],
 "metadata": {
  "kernelspec": {
   "display_name": "Python 3",
   "language": "python",
   "name": "python3"
  },
  "language_info": {
   "codemirror_mode": {
    "name": "ipython",
    "version": 3
   },
   "file_extension": ".py",
   "mimetype": "text/x-python",
   "name": "python",
   "nbconvert_exporter": "python",
   "pygments_lexer": "ipython3",
   "version": "3.8.8"
  }
 },
 "nbformat": 4,
 "nbformat_minor": 2
}
